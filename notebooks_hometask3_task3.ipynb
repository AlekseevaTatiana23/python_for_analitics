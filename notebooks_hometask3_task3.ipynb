{
  "metadata": {
    "language_info": {
      "codemirror_mode": {
        "name": "python",
        "version": 3
      },
      "file_extension": ".py",
      "mimetype": "text/x-python",
      "name": "python",
      "nbconvert_exporter": "python",
      "pygments_lexer": "ipython3",
      "version": "3.8"
    },
    "kernelspec": {
      "name": "python",
      "display_name": "Python (Pyodide)",
      "language": "python"
    }
  },
  "nbformat_minor": 4,
  "nbformat": 4,
  "cells": [
    {
      "cell_type": "markdown",
      "source": "# 3 задача\n## Составьте несколько сводных таблиц\n## 3.1 Найдите среднюю стоимость домов в зависимости от количества спален\n## Отсортируйте от меньшей стоимости к большей\n",
      "metadata": {}
    },
    {
      "cell_type": "code",
      "source": "import pandas as pd\ndf=pd.read_csv('kc_house_data.csv', sep=',', encoding='windows-1251')\n",
      "metadata": {
        "trusted": true
      },
      "execution_count": 11,
      "outputs": []
    },
    {
      "cell_type": "code",
      "source": "df.groupby('bedrooms').agg({'price':'mean'}).sort_values('price')\n",
      "metadata": {
        "trusted": true
      },
      "execution_count": 17,
      "outputs": [
        {
          "execution_count": 17,
          "output_type": "execute_result",
          "data": {
            "text/plain": "                 price\nbedrooms              \n1         3.176429e+05\n2         4.013727e+05\n0         4.095038e+05\n3         4.662321e+05\n11        5.200000e+05\n4         6.354195e+05\n33        6.400000e+05\n5         7.865998e+05\n10        8.193333e+05\n6         8.255206e+05\n9         8.939998e+05\n7         9.511847e+05\n8         1.105077e+06",
            "text/html": "<div>\n<style scoped>\n    .dataframe tbody tr th:only-of-type {\n        vertical-align: middle;\n    }\n\n    .dataframe tbody tr th {\n        vertical-align: top;\n    }\n\n    .dataframe thead th {\n        text-align: right;\n    }\n</style>\n<table border=\"1\" class=\"dataframe\">\n  <thead>\n    <tr style=\"text-align: right;\">\n      <th></th>\n      <th>price</th>\n    </tr>\n    <tr>\n      <th>bedrooms</th>\n      <th></th>\n    </tr>\n  </thead>\n  <tbody>\n    <tr>\n      <th>1</th>\n      <td>3.176429e+05</td>\n    </tr>\n    <tr>\n      <th>2</th>\n      <td>4.013727e+05</td>\n    </tr>\n    <tr>\n      <th>0</th>\n      <td>4.095038e+05</td>\n    </tr>\n    <tr>\n      <th>3</th>\n      <td>4.662321e+05</td>\n    </tr>\n    <tr>\n      <th>11</th>\n      <td>5.200000e+05</td>\n    </tr>\n    <tr>\n      <th>4</th>\n      <td>6.354195e+05</td>\n    </tr>\n    <tr>\n      <th>33</th>\n      <td>6.400000e+05</td>\n    </tr>\n    <tr>\n      <th>5</th>\n      <td>7.865998e+05</td>\n    </tr>\n    <tr>\n      <th>10</th>\n      <td>8.193333e+05</td>\n    </tr>\n    <tr>\n      <th>6</th>\n      <td>8.255206e+05</td>\n    </tr>\n    <tr>\n      <th>9</th>\n      <td>8.939998e+05</td>\n    </tr>\n    <tr>\n      <th>7</th>\n      <td>9.511847e+05</td>\n    </tr>\n    <tr>\n      <th>8</th>\n      <td>1.105077e+06</td>\n    </tr>\n  </tbody>\n</table>\n</div>"
          },
          "metadata": {}
        }
      ]
    },
    {
      "cell_type": "markdown",
      "source": "## 3.2 Найдите минимальную, среднюю и максимальную стоимости домов в зависимости от состояния дома\n",
      "metadata": {}
    },
    {
      "cell_type": "code",
      "source": "df.groupby('condition').agg({'price':['min', 'mean', 'max']})",
      "metadata": {
        "trusted": true
      },
      "execution_count": 18,
      "outputs": [
        {
          "execution_count": 18,
          "output_type": "execute_result",
          "data": {
            "text/plain": "              price                          \n                min           mean        max\ncondition                                    \n1           78000.0  334431.666667  1500000.0\n2           80000.0  327287.145349  2555000.0\n3           75000.0  542012.578148  7062500.0\n4           89000.0  521200.390033  7700000.0\n5          110000.0  612418.089359  3650000.0",
            "text/html": "<div>\n<style scoped>\n    .dataframe tbody tr th:only-of-type {\n        vertical-align: middle;\n    }\n\n    .dataframe tbody tr th {\n        vertical-align: top;\n    }\n\n    .dataframe thead tr th {\n        text-align: left;\n    }\n\n    .dataframe thead tr:last-of-type th {\n        text-align: right;\n    }\n</style>\n<table border=\"1\" class=\"dataframe\">\n  <thead>\n    <tr>\n      <th></th>\n      <th colspan=\"3\" halign=\"left\">price</th>\n    </tr>\n    <tr>\n      <th></th>\n      <th>min</th>\n      <th>mean</th>\n      <th>max</th>\n    </tr>\n    <tr>\n      <th>condition</th>\n      <th></th>\n      <th></th>\n      <th></th>\n    </tr>\n  </thead>\n  <tbody>\n    <tr>\n      <th>1</th>\n      <td>78000.0</td>\n      <td>334431.666667</td>\n      <td>1500000.0</td>\n    </tr>\n    <tr>\n      <th>2</th>\n      <td>80000.0</td>\n      <td>327287.145349</td>\n      <td>2555000.0</td>\n    </tr>\n    <tr>\n      <th>3</th>\n      <td>75000.0</td>\n      <td>542012.578148</td>\n      <td>7062500.0</td>\n    </tr>\n    <tr>\n      <th>4</th>\n      <td>89000.0</td>\n      <td>521200.390033</td>\n      <td>7700000.0</td>\n    </tr>\n    <tr>\n      <th>5</th>\n      <td>110000.0</td>\n      <td>612418.089359</td>\n      <td>3650000.0</td>\n    </tr>\n  </tbody>\n</table>\n</div>"
          },
          "metadata": {}
        }
      ]
    },
    {
      "cell_type": "markdown",
      "source": "## 3.3 Постройте таблицу с подсчетом количества домов в данных в зависимости от вида на набережную и оценкой вида\n",
      "metadata": {}
    },
    {
      "cell_type": "code",
      "source": "df.pivot_table(index='waterfront',\n               columns='view',\n               values='id',\n               aggfunc='count',\n               fill_value=0)",
      "metadata": {
        "trusted": true
      },
      "execution_count": 19,
      "outputs": [
        {
          "execution_count": 19,
          "output_type": "execute_result",
          "data": {
            "text/plain": "view            0    1    2    3    4\nwaterfront                           \n0           19489  331  955  491  184\n1               0    1    8   19  135",
            "text/html": "<div>\n<style scoped>\n    .dataframe tbody tr th:only-of-type {\n        vertical-align: middle;\n    }\n\n    .dataframe tbody tr th {\n        vertical-align: top;\n    }\n\n    .dataframe thead th {\n        text-align: right;\n    }\n</style>\n<table border=\"1\" class=\"dataframe\">\n  <thead>\n    <tr style=\"text-align: right;\">\n      <th>view</th>\n      <th>0</th>\n      <th>1</th>\n      <th>2</th>\n      <th>3</th>\n      <th>4</th>\n    </tr>\n    <tr>\n      <th>waterfront</th>\n      <th></th>\n      <th></th>\n      <th></th>\n      <th></th>\n      <th></th>\n    </tr>\n  </thead>\n  <tbody>\n    <tr>\n      <th>0</th>\n      <td>19489</td>\n      <td>331</td>\n      <td>955</td>\n      <td>491</td>\n      <td>184</td>\n    </tr>\n    <tr>\n      <th>1</th>\n      <td>0</td>\n      <td>1</td>\n      <td>8</td>\n      <td>19</td>\n      <td>135</td>\n    </tr>\n  </tbody>\n</table>\n</div>"
          },
          "metadata": {}
        }
      ]
    },
    {
      "cell_type": "markdown",
      "source": "## 3.4 Каких домов в зависимости от этажности и количества спален больше?\n",
      "metadata": {}
    },
    {
      "cell_type": "code",
      "source": "pd.crosstab(index=df['floors'],\n            columns=df['bedrooms'])",
      "metadata": {
        "trusted": true
      },
      "execution_count": 23,
      "outputs": [
        {
          "execution_count": 23,
          "output_type": "execute_result",
          "data": {
            "text/plain": "bedrooms  0    1     2     3     4    5    6   7   8   9   10  11  33\nfloors                                                               \n1.0        4  162  1951  5455  2383  605  104   9   5   0   1   0   1\n1.5        0   21   182   786   698  185   30   7   1   0   0   0   0\n2.0        6   12   497  3118  3682  775  119  19   6   4   2   1   0\n2.5        0    1     5    56    58   23   14   2   0   2   0   0   0\n3.0        2    3   123   405    61   13    5   1   0   0   0   0   0\n3.5        1    0     2     4     0    0    0   0   1   0   0   0   0",
            "text/html": "<div>\n<style scoped>\n    .dataframe tbody tr th:only-of-type {\n        vertical-align: middle;\n    }\n\n    .dataframe tbody tr th {\n        vertical-align: top;\n    }\n\n    .dataframe thead th {\n        text-align: right;\n    }\n</style>\n<table border=\"1\" class=\"dataframe\">\n  <thead>\n    <tr style=\"text-align: right;\">\n      <th>bedrooms</th>\n      <th>0</th>\n      <th>1</th>\n      <th>2</th>\n      <th>3</th>\n      <th>4</th>\n      <th>5</th>\n      <th>6</th>\n      <th>7</th>\n      <th>8</th>\n      <th>9</th>\n      <th>10</th>\n      <th>11</th>\n      <th>33</th>\n    </tr>\n    <tr>\n      <th>floors</th>\n      <th></th>\n      <th></th>\n      <th></th>\n      <th></th>\n      <th></th>\n      <th></th>\n      <th></th>\n      <th></th>\n      <th></th>\n      <th></th>\n      <th></th>\n      <th></th>\n      <th></th>\n    </tr>\n  </thead>\n  <tbody>\n    <tr>\n      <th>1.0</th>\n      <td>4</td>\n      <td>162</td>\n      <td>1951</td>\n      <td>5455</td>\n      <td>2383</td>\n      <td>605</td>\n      <td>104</td>\n      <td>9</td>\n      <td>5</td>\n      <td>0</td>\n      <td>1</td>\n      <td>0</td>\n      <td>1</td>\n    </tr>\n    <tr>\n      <th>1.5</th>\n      <td>0</td>\n      <td>21</td>\n      <td>182</td>\n      <td>786</td>\n      <td>698</td>\n      <td>185</td>\n      <td>30</td>\n      <td>7</td>\n      <td>1</td>\n      <td>0</td>\n      <td>0</td>\n      <td>0</td>\n      <td>0</td>\n    </tr>\n    <tr>\n      <th>2.0</th>\n      <td>6</td>\n      <td>12</td>\n      <td>497</td>\n      <td>3118</td>\n      <td>3682</td>\n      <td>775</td>\n      <td>119</td>\n      <td>19</td>\n      <td>6</td>\n      <td>4</td>\n      <td>2</td>\n      <td>1</td>\n      <td>0</td>\n    </tr>\n    <tr>\n      <th>2.5</th>\n      <td>0</td>\n      <td>1</td>\n      <td>5</td>\n      <td>56</td>\n      <td>58</td>\n      <td>23</td>\n      <td>14</td>\n      <td>2</td>\n      <td>0</td>\n      <td>2</td>\n      <td>0</td>\n      <td>0</td>\n      <td>0</td>\n    </tr>\n    <tr>\n      <th>3.0</th>\n      <td>2</td>\n      <td>3</td>\n      <td>123</td>\n      <td>405</td>\n      <td>61</td>\n      <td>13</td>\n      <td>5</td>\n      <td>1</td>\n      <td>0</td>\n      <td>0</td>\n      <td>0</td>\n      <td>0</td>\n      <td>0</td>\n    </tr>\n    <tr>\n      <th>3.5</th>\n      <td>1</td>\n      <td>0</td>\n      <td>2</td>\n      <td>4</td>\n      <td>0</td>\n      <td>0</td>\n      <td>0</td>\n      <td>0</td>\n      <td>1</td>\n      <td>0</td>\n      <td>0</td>\n      <td>0</td>\n      <td>0</td>\n    </tr>\n  </tbody>\n</table>\n</div>"
          },
          "metadata": {}
        }
      ]
    },
    {
      "cell_type": "markdown",
      "source": "## 3.5 Постройте таблицу с подсчетом медианной стоимости домов в данных в зависимости от состояния дома и оценки дома",
      "metadata": {}
    },
    {
      "cell_type": "code",
      "source": "df.pivot_table(index='condition',\n               columns='grade',\n               values='price',\n               aggfunc='median',\n               fill_value=0)",
      "metadata": {
        "trusted": true
      },
      "execution_count": 26,
      "outputs": [
        {
          "execution_count": 26,
          "output_type": "execute_result",
          "data": {
            "text/plain": "grade          1       3       4       5       6       7       8        9   \\\ncondition                                                                    \n1          142000       0  150000  190000  255000  403500  932500        0   \n2               0  280000  145000  180000  235000  305000  429000   715000   \n3               0   75000  205000  234475  265000  357500  485000   689000   \n4               0       0  238525  229975  295000  390000  571250   823500   \n5               0  262000       0  227450  285475  456000  696000  1078000   \n\ngrade           10       11       12       13  \ncondition                                      \n1                0        0        0        0  \n2          1752500        0        0        0  \n3           890000  1209500  1807500  2888000  \n4          1030000  1685000  2125000  5750000  \n5          1650000  2050000  1990000        0  ",
            "text/html": "<div>\n<style scoped>\n    .dataframe tbody tr th:only-of-type {\n        vertical-align: middle;\n    }\n\n    .dataframe tbody tr th {\n        vertical-align: top;\n    }\n\n    .dataframe thead th {\n        text-align: right;\n    }\n</style>\n<table border=\"1\" class=\"dataframe\">\n  <thead>\n    <tr style=\"text-align: right;\">\n      <th>grade</th>\n      <th>1</th>\n      <th>3</th>\n      <th>4</th>\n      <th>5</th>\n      <th>6</th>\n      <th>7</th>\n      <th>8</th>\n      <th>9</th>\n      <th>10</th>\n      <th>11</th>\n      <th>12</th>\n      <th>13</th>\n    </tr>\n    <tr>\n      <th>condition</th>\n      <th></th>\n      <th></th>\n      <th></th>\n      <th></th>\n      <th></th>\n      <th></th>\n      <th></th>\n      <th></th>\n      <th></th>\n      <th></th>\n      <th></th>\n      <th></th>\n    </tr>\n  </thead>\n  <tbody>\n    <tr>\n      <th>1</th>\n      <td>142000</td>\n      <td>0</td>\n      <td>150000</td>\n      <td>190000</td>\n      <td>255000</td>\n      <td>403500</td>\n      <td>932500</td>\n      <td>0</td>\n      <td>0</td>\n      <td>0</td>\n      <td>0</td>\n      <td>0</td>\n    </tr>\n    <tr>\n      <th>2</th>\n      <td>0</td>\n      <td>280000</td>\n      <td>145000</td>\n      <td>180000</td>\n      <td>235000</td>\n      <td>305000</td>\n      <td>429000</td>\n      <td>715000</td>\n      <td>1752500</td>\n      <td>0</td>\n      <td>0</td>\n      <td>0</td>\n    </tr>\n    <tr>\n      <th>3</th>\n      <td>0</td>\n      <td>75000</td>\n      <td>205000</td>\n      <td>234475</td>\n      <td>265000</td>\n      <td>357500</td>\n      <td>485000</td>\n      <td>689000</td>\n      <td>890000</td>\n      <td>1209500</td>\n      <td>1807500</td>\n      <td>2888000</td>\n    </tr>\n    <tr>\n      <th>4</th>\n      <td>0</td>\n      <td>0</td>\n      <td>238525</td>\n      <td>229975</td>\n      <td>295000</td>\n      <td>390000</td>\n      <td>571250</td>\n      <td>823500</td>\n      <td>1030000</td>\n      <td>1685000</td>\n      <td>2125000</td>\n      <td>5750000</td>\n    </tr>\n    <tr>\n      <th>5</th>\n      <td>0</td>\n      <td>262000</td>\n      <td>0</td>\n      <td>227450</td>\n      <td>285475</td>\n      <td>456000</td>\n      <td>696000</td>\n      <td>1078000</td>\n      <td>1650000</td>\n      <td>2050000</td>\n      <td>1990000</td>\n      <td>0</td>\n    </tr>\n  </tbody>\n</table>\n</div>"
          },
          "metadata": {}
        }
      ]
    },
    {
      "cell_type": "code",
      "source": "",
      "metadata": {},
      "execution_count": null,
      "outputs": []
    }
  ]
}