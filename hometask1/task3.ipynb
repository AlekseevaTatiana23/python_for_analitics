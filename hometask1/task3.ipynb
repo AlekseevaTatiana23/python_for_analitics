{
 "cells": [
  {
   "attachments": {},
   "cell_type": "markdown",
   "metadata": {},
   "source": [
    "# Задача 3\n",
    "\n",
    "Даны два списка.\n",
    "Дата покупки\n",
    "['2021-09-14', '2021-12-15', '2021-09-08', '2021-12-05', '2021-10-09', '2021-09-30', '2021-12-22', '2021-11-29', '2021-12-24', '2021-11-26', '2021-10-27', '2021-12-18', '2021-11-09', '2021-11-23', '2021-09-27', '2021-10-02', '2021-12-27', '2021-09-20', '2021-12-13', '2021-11-01', '2021-11-09', '2021-12-06', '2021-12-08', '2021-10-09', '2021-10-31', '2021-09-30', '2021-11-09', '2021-12-13', '2021-10-26', '2021-12-09']\n",
    "Суммы покупок по датам\n",
    "[1270, 8413, 9028, 3703, 5739, 4095, 295, 4944, 5723, 3701, 4471, 651, 7037, 4274, 6275, 4988, 6930, 2971, 6592, 2004, 2822, 519, 3406, 2732, 5015, 2008, 316, 6333, 5700, 2887]\n",
    "## 3.1 Найдите, какая выручка у компании в ноябре\n",
    "Используйте list comprehensions\n",
    "## 3.2 Найдите выручку компании в зависимости от месяца\n",
    "Для этого напишите функцию, которая на вход принимает список с датами и список с выручкой, а на выходе словарь, где ключи - это месяцы, а значения - это выручка.\n",
    "Используйте аннотирование типов."
   ]
  },
  {
   "cell_type": "code",
   "execution_count": 7,
   "metadata": {},
   "outputs": [
    {
     "name": "stdout",
     "output_type": "stream",
     "text": [
      "[4944, 3701, 7037, 4274, 2004, 2822, 316]\n",
      "Profit: 25098\n"
     ]
    }
   ],
   "source": [
    "date_list=['2021-09-14', '2021-12-15', '2021-09-08', '2021-12-05', '2021-10-09', '2021-09-30', '2021-12-22', '2021-11-29', '2021-12-24', '2021-11-26', '2021-10-27', '2021-12-18', '2021-11-09', '2021-11-23', '2021-09-27', '2021-10-02', '2021-12-27', '2021-09-20', '2021-12-13', '2021-11-01', '2021-11-09', '2021-12-06', '2021-12-08', '2021-10-09', '2021-10-31', '2021-09-30', '2021-11-09', '2021-12-13', '2021-10-26', '2021-12-09']\n",
    "cost_list=[1270, 8413, 9028, 3703, 5739, 4095, 295, 4944, 5723, 3701, 4471, 651, 7037, 4274, 6275, 4988, 6930, 2971, 6592, 2004, 2822, 519, 3406, 2732, 5015, 2008, 316, 6333, 5700, 2887]\n",
    "\n",
    "def sum_cost_november (date:list, cost: list) -> list:\n",
    "    new_list=[]\n",
    "    [new_list.append(cost[i]) for i in range(len(date)-1) if '-11-' in date[i]]\n",
    "    return new_list\n",
    "\n",
    "print(sum_cost_november(date_list, cost_list))\n",
    "print(f'Profit: {sum(sum_cost_november(date_list, cost_list))}')"
   ]
  },
  {
   "cell_type": "code",
   "execution_count": 9,
   "metadata": {},
   "outputs": [
    {
     "ename": "TypeError",
     "evalue": "argument of type 'method_descriptor' is not iterable",
     "output_type": "error",
     "traceback": [
      "\u001b[1;31m---------------------------------------------------------------------------\u001b[0m",
      "\u001b[1;31mTypeError\u001b[0m                                 Traceback (most recent call last)",
      "Cell \u001b[1;32mIn[9], line 19\u001b[0m\n\u001b[0;32m     16\u001b[0m             sum_\u001b[39m+\u001b[39m\u001b[39m=\u001b[39m\u001b[39mdict\u001b[39m[i]\u001b[39m.\u001b[39mvalues\n\u001b[0;32m     17\u001b[0m     \u001b[39mreturn\u001b[39;00m sum_\n\u001b[1;32m---> 19\u001b[0m \u001b[39mprint\u001b[39m(sum_profits(profits_dict))\n",
      "Cell \u001b[1;32mIn[9], line 15\u001b[0m, in \u001b[0;36msum_profits\u001b[1;34m(dict_1)\u001b[0m\n\u001b[0;32m     13\u001b[0m sum_\u001b[39m=\u001b[39m\u001b[39m0\u001b[39m\n\u001b[0;32m     14\u001b[0m \u001b[39mfor\u001b[39;00m i \u001b[39min\u001b[39;00m \u001b[39mrange\u001b[39m(\u001b[39mlen\u001b[39m(dict_1)):\n\u001b[1;32m---> 15\u001b[0m     \u001b[39mif\u001b[39;00m \u001b[39m'\u001b[39;49m\u001b[39m-11-\u001b[39;49m\u001b[39m'\u001b[39;49m \u001b[39min\u001b[39;49;00m \u001b[39mdict\u001b[39;49m[i]\u001b[39m.\u001b[39;49mkeys:\n\u001b[0;32m     16\u001b[0m         sum_\u001b[39m+\u001b[39m\u001b[39m=\u001b[39m\u001b[39mdict\u001b[39m[i]\u001b[39m.\u001b[39mvalues\n\u001b[0;32m     17\u001b[0m \u001b[39mreturn\u001b[39;00m sum_\n",
      "\u001b[1;31mTypeError\u001b[0m: argument of type 'method_descriptor' is not iterable"
     ]
    }
   ],
   "source": [
    "\n",
    "def profits (date:list, cost: list) -> dict:\n",
    "    profits_dict={}\n",
    "    for i in range(len(date)):\n",
    "        profits_dict[date[i]]=cost[i]\n",
    "    return profits_dict\n",
    "\n",
    "profits_dict = profits(date_list, cost_list)\n",
    "\n",
    "def sum_profits(dict_1: dict) -> dict:\n",
    "    sum_=0\n",
    "    for i in range(len(dict_1)):\n",
    "        if '-11-' in dict[i].keys:\n",
    "            sum_+=dict[i].values\n",
    "    return sum_\n",
    "\n",
    "print(sum_profits(profits_dict))"
   ]
  }
 ],
 "metadata": {
  "kernelspec": {
   "display_name": "Python 3",
   "language": "python",
   "name": "python3"
  },
  "language_info": {
   "codemirror_mode": {
    "name": "ipython",
    "version": 3
   },
   "file_extension": ".py",
   "mimetype": "text/x-python",
   "name": "python",
   "nbconvert_exporter": "python",
   "pygments_lexer": "ipython3",
   "version": "3.11.3"
  },
  "orig_nbformat": 4,
  "vscode": {
   "interpreter": {
    "hash": "de47f5c92c0ee6f12a59a5613ac5feff6aab19ddff207ba0b3964cced08c4ccc"
   }
  }
 },
 "nbformat": 4,
 "nbformat_minor": 2
}
