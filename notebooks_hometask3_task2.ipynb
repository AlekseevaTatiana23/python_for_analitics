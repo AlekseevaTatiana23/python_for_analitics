{
  "metadata": {
    "language_info": {
      "codemirror_mode": {
        "name": "python",
        "version": 3
      },
      "file_extension": ".py",
      "mimetype": "text/x-python",
      "name": "python",
      "nbconvert_exporter": "python",
      "pygments_lexer": "ipython3",
      "version": "3.8"
    },
    "kernelspec": {
      "name": "python",
      "display_name": "Python (Pyodide)",
      "language": "python"
    }
  },
  "nbformat_minor": 4,
  "nbformat": 4,
  "cells": [
    {
      "cell_type": "markdown",
      "source": "# 2 задача\n## Создайте датафрейм с клиентами:\n## clients = pd.DataFrame({\n'client_id': [1459, 4684, 3498, 3942, 4535, 2308, 2866, 2765, 1472, 4236, 2295,\n939, 3840, 280, 20, 4332, 3475, 4213, 3113, 4809, 2134, 2242,\n2068, 4929, 1384, 1589, 3317, 2260, 1727, 1764, 1611, 1474],\n'house_id': [8965450190, 6823100225, 5104540330, 2131701075, 1522700060,\n1189000207, 6821600300, 7137950720, 9510920050, 6131600255,\n5428000070, 1788800910, 8100400160, 3123049142, 6306800010,\n5083000375, 7920100025, 1951600150, 809001400, 339600110,\n1622049154, 1099600250, 8563000110, 2768100205, 3995700435,\n8861700030, 3303980210, 7731100066, 8146100580, 825069097,\n3889100029, 9524100196]\n})\n## 2.1 Присоедините к таблице clients данные по домам через метод join",
      "metadata": {}
    },
    {
      "cell_type": "code",
      "source": "import pandas as pd\ndf=pd.read_csv('kc_house_data.csv', sep=',', encoding='windows-1251')\ndf.head()",
      "metadata": {
        "trusted": true
      },
      "execution_count": 7,
      "outputs": [
        {
          "execution_count": 7,
          "output_type": "execute_result",
          "data": {
            "text/plain": "           id             date     price  bedrooms  bathrooms  sqft_living  \\\n0  7129300520  20141013T000000  221900.0         3       1.00         1180   \n1  6414100192  20141209T000000  538000.0         3       2.25         2570   \n2  5631500400  20150225T000000  180000.0         2       1.00          770   \n3  2487200875  20141209T000000  604000.0         4       3.00         1960   \n4  1954400510  20150218T000000  510000.0         3       2.00         1680   \n\n   sqft_lot  floors  waterfront  view  ...  grade  sqft_above  sqft_basement  \\\n0      5650     1.0           0     0  ...      7      1180.0              0   \n1      7242     2.0           0     0  ...      7      2170.0            400   \n2     10000     1.0           0     0  ...      6       770.0              0   \n3      5000     1.0           0     0  ...      7      1050.0            910   \n4      8080     1.0           0     0  ...      8      1680.0              0   \n\n   yr_built  yr_renovated  zipcode      lat     long  sqft_living15  \\\n0      1955             0    98178  47.5112 -122.257           1340   \n1      1951          1991    98125  47.7210 -122.319           1690   \n2      1933             0    98028  47.7379 -122.233           2720   \n3      1965             0    98136  47.5208 -122.393           1360   \n4      1987             0    98074  47.6168 -122.045           1800   \n\n   sqft_lot15  \n0        5650  \n1        7639  \n2        8062  \n3        5000  \n4        7503  \n\n[5 rows x 21 columns]",
            "text/html": "<div>\n<style scoped>\n    .dataframe tbody tr th:only-of-type {\n        vertical-align: middle;\n    }\n\n    .dataframe tbody tr th {\n        vertical-align: top;\n    }\n\n    .dataframe thead th {\n        text-align: right;\n    }\n</style>\n<table border=\"1\" class=\"dataframe\">\n  <thead>\n    <tr style=\"text-align: right;\">\n      <th></th>\n      <th>id</th>\n      <th>date</th>\n      <th>price</th>\n      <th>bedrooms</th>\n      <th>bathrooms</th>\n      <th>sqft_living</th>\n      <th>sqft_lot</th>\n      <th>floors</th>\n      <th>waterfront</th>\n      <th>view</th>\n      <th>...</th>\n      <th>grade</th>\n      <th>sqft_above</th>\n      <th>sqft_basement</th>\n      <th>yr_built</th>\n      <th>yr_renovated</th>\n      <th>zipcode</th>\n      <th>lat</th>\n      <th>long</th>\n      <th>sqft_living15</th>\n      <th>sqft_lot15</th>\n    </tr>\n  </thead>\n  <tbody>\n    <tr>\n      <th>0</th>\n      <td>7129300520</td>\n      <td>20141013T000000</td>\n      <td>221900.0</td>\n      <td>3</td>\n      <td>1.00</td>\n      <td>1180</td>\n      <td>5650</td>\n      <td>1.0</td>\n      <td>0</td>\n      <td>0</td>\n      <td>...</td>\n      <td>7</td>\n      <td>1180.0</td>\n      <td>0</td>\n      <td>1955</td>\n      <td>0</td>\n      <td>98178</td>\n      <td>47.5112</td>\n      <td>-122.257</td>\n      <td>1340</td>\n      <td>5650</td>\n    </tr>\n    <tr>\n      <th>1</th>\n      <td>6414100192</td>\n      <td>20141209T000000</td>\n      <td>538000.0</td>\n      <td>3</td>\n      <td>2.25</td>\n      <td>2570</td>\n      <td>7242</td>\n      <td>2.0</td>\n      <td>0</td>\n      <td>0</td>\n      <td>...</td>\n      <td>7</td>\n      <td>2170.0</td>\n      <td>400</td>\n      <td>1951</td>\n      <td>1991</td>\n      <td>98125</td>\n      <td>47.7210</td>\n      <td>-122.319</td>\n      <td>1690</td>\n      <td>7639</td>\n    </tr>\n    <tr>\n      <th>2</th>\n      <td>5631500400</td>\n      <td>20150225T000000</td>\n      <td>180000.0</td>\n      <td>2</td>\n      <td>1.00</td>\n      <td>770</td>\n      <td>10000</td>\n      <td>1.0</td>\n      <td>0</td>\n      <td>0</td>\n      <td>...</td>\n      <td>6</td>\n      <td>770.0</td>\n      <td>0</td>\n      <td>1933</td>\n      <td>0</td>\n      <td>98028</td>\n      <td>47.7379</td>\n      <td>-122.233</td>\n      <td>2720</td>\n      <td>8062</td>\n    </tr>\n    <tr>\n      <th>3</th>\n      <td>2487200875</td>\n      <td>20141209T000000</td>\n      <td>604000.0</td>\n      <td>4</td>\n      <td>3.00</td>\n      <td>1960</td>\n      <td>5000</td>\n      <td>1.0</td>\n      <td>0</td>\n      <td>0</td>\n      <td>...</td>\n      <td>7</td>\n      <td>1050.0</td>\n      <td>910</td>\n      <td>1965</td>\n      <td>0</td>\n      <td>98136</td>\n      <td>47.5208</td>\n      <td>-122.393</td>\n      <td>1360</td>\n      <td>5000</td>\n    </tr>\n    <tr>\n      <th>4</th>\n      <td>1954400510</td>\n      <td>20150218T000000</td>\n      <td>510000.0</td>\n      <td>3</td>\n      <td>2.00</td>\n      <td>1680</td>\n      <td>8080</td>\n      <td>1.0</td>\n      <td>0</td>\n      <td>0</td>\n      <td>...</td>\n      <td>8</td>\n      <td>1680.0</td>\n      <td>0</td>\n      <td>1987</td>\n      <td>0</td>\n      <td>98074</td>\n      <td>47.6168</td>\n      <td>-122.045</td>\n      <td>1800</td>\n      <td>7503</td>\n    </tr>\n  </tbody>\n</table>\n<p>5 rows × 21 columns</p>\n</div>"
          },
          "metadata": {}
        }
      ]
    },
    {
      "cell_type": "code",
      "source": "clients = pd.DataFrame({\n'client_id': [1459, 4684, 3498, 3942, 4535, 2308, 2866, 2765, 1472, 4236, 2295,\n939, 3840, 280, 20, 4332, 3475, 4213, 3113, 4809, 2134, 2242,\n2068, 4929, 1384, 1589, 3317, 2260, 1727, 1764, 1611, 1474],\n'house_id': [8965450190, 6823100225, 5104540330, 2131701075, 1522700060,\n1189000207, 6821600300, 7137950720, 9510920050, 6131600255,\n5428000070, 1788800910, 8100400160, 3123049142, 6306800010,\n5083000375, 7920100025, 1951600150, 809001400, 339600110,\n1622049154, 1099600250, 8563000110, 2768100205, 3995700435,\n8861700030, 3303980210, 7731100066, 8146100580, 825069097,\n3889100029, 9524100196]\n})\nclients.head()",
      "metadata": {
        "trusted": true
      },
      "execution_count": 6,
      "outputs": [
        {
          "execution_count": 6,
          "output_type": "execute_result",
          "data": {
            "text/plain": "   client_id    house_id\n0       1459  8965450190\n1       4684  6823100225\n2       3498  5104540330\n3       3942  2131701075\n4       4535  1522700060",
            "text/html": "<div>\n<style scoped>\n    .dataframe tbody tr th:only-of-type {\n        vertical-align: middle;\n    }\n\n    .dataframe tbody tr th {\n        vertical-align: top;\n    }\n\n    .dataframe thead th {\n        text-align: right;\n    }\n</style>\n<table border=\"1\" class=\"dataframe\">\n  <thead>\n    <tr style=\"text-align: right;\">\n      <th></th>\n      <th>client_id</th>\n      <th>house_id</th>\n    </tr>\n  </thead>\n  <tbody>\n    <tr>\n      <th>0</th>\n      <td>1459</td>\n      <td>8965450190</td>\n    </tr>\n    <tr>\n      <th>1</th>\n      <td>4684</td>\n      <td>6823100225</td>\n    </tr>\n    <tr>\n      <th>2</th>\n      <td>3498</td>\n      <td>5104540330</td>\n    </tr>\n    <tr>\n      <th>3</th>\n      <td>3942</td>\n      <td>2131701075</td>\n    </tr>\n    <tr>\n      <th>4</th>\n      <td>4535</td>\n      <td>1522700060</td>\n    </tr>\n  </tbody>\n</table>\n</div>"
          },
          "metadata": {}
        }
      ]
    },
    {
      "cell_type": "code",
      "source": "clients_id=clients.set_index('house_id')\ndf_id=df.set_index('id')\nclients_id.join(df_id).reset_index().head()",
      "metadata": {
        "trusted": true
      },
      "execution_count": 12,
      "outputs": [
        {
          "execution_count": 12,
          "output_type": "execute_result",
          "data": {
            "text/plain": "        index  client_id             date     price  bedrooms  bathrooms  \\\n0   339600110       4809  20140923T000000  395000.0         3       2.50   \n1   809001400       3113  20140922T000000  925000.0         3       1.00   \n2   825069097       1764  20140619T000000  770000.0         3       2.50   \n3  1099600250       2242  20141202T000000  260000.0         3       1.75   \n4  1189000207       2308  20141021T000000  387000.0         2       2.50   \n\n   sqft_living  sqft_lot  floors  waterfront  ...  grade  sqft_above  \\\n0         1610      3755     2.0           0  ...      7      1610.0   \n1         1630      3200     1.5           0  ...      8      1630.0   \n2         2650     40705     2.0           0  ...      9      2650.0   \n3         1710      6400     1.0           0  ...      7      1240.0   \n4         1170      1394     2.0           0  ...      8      1170.0   \n\n   sqft_basement  yr_built  yr_renovated  zipcode      lat     long  \\\n0              0      1987             0    98052  47.6825 -122.097   \n1              0      1912             0    98109  47.6351 -122.352   \n2              0      1994             0    98053  47.6680 -122.063   \n3            470      1976             0    98023  47.3036 -122.377   \n4              0      2001             0    98122  47.6131 -122.297   \n\n   sqft_living15  sqft_lot15  \n0           1300        3823  \n1           1710        3600  \n2           2550       42625  \n3           1600        6400  \n4           1250        3136  \n\n[5 rows x 22 columns]",
            "text/html": "<div>\n<style scoped>\n    .dataframe tbody tr th:only-of-type {\n        vertical-align: middle;\n    }\n\n    .dataframe tbody tr th {\n        vertical-align: top;\n    }\n\n    .dataframe thead th {\n        text-align: right;\n    }\n</style>\n<table border=\"1\" class=\"dataframe\">\n  <thead>\n    <tr style=\"text-align: right;\">\n      <th></th>\n      <th>index</th>\n      <th>client_id</th>\n      <th>date</th>\n      <th>price</th>\n      <th>bedrooms</th>\n      <th>bathrooms</th>\n      <th>sqft_living</th>\n      <th>sqft_lot</th>\n      <th>floors</th>\n      <th>waterfront</th>\n      <th>...</th>\n      <th>grade</th>\n      <th>sqft_above</th>\n      <th>sqft_basement</th>\n      <th>yr_built</th>\n      <th>yr_renovated</th>\n      <th>zipcode</th>\n      <th>lat</th>\n      <th>long</th>\n      <th>sqft_living15</th>\n      <th>sqft_lot15</th>\n    </tr>\n  </thead>\n  <tbody>\n    <tr>\n      <th>0</th>\n      <td>339600110</td>\n      <td>4809</td>\n      <td>20140923T000000</td>\n      <td>395000.0</td>\n      <td>3</td>\n      <td>2.50</td>\n      <td>1610</td>\n      <td>3755</td>\n      <td>2.0</td>\n      <td>0</td>\n      <td>...</td>\n      <td>7</td>\n      <td>1610.0</td>\n      <td>0</td>\n      <td>1987</td>\n      <td>0</td>\n      <td>98052</td>\n      <td>47.6825</td>\n      <td>-122.097</td>\n      <td>1300</td>\n      <td>3823</td>\n    </tr>\n    <tr>\n      <th>1</th>\n      <td>809001400</td>\n      <td>3113</td>\n      <td>20140922T000000</td>\n      <td>925000.0</td>\n      <td>3</td>\n      <td>1.00</td>\n      <td>1630</td>\n      <td>3200</td>\n      <td>1.5</td>\n      <td>0</td>\n      <td>...</td>\n      <td>8</td>\n      <td>1630.0</td>\n      <td>0</td>\n      <td>1912</td>\n      <td>0</td>\n      <td>98109</td>\n      <td>47.6351</td>\n      <td>-122.352</td>\n      <td>1710</td>\n      <td>3600</td>\n    </tr>\n    <tr>\n      <th>2</th>\n      <td>825069097</td>\n      <td>1764</td>\n      <td>20140619T000000</td>\n      <td>770000.0</td>\n      <td>3</td>\n      <td>2.50</td>\n      <td>2650</td>\n      <td>40705</td>\n      <td>2.0</td>\n      <td>0</td>\n      <td>...</td>\n      <td>9</td>\n      <td>2650.0</td>\n      <td>0</td>\n      <td>1994</td>\n      <td>0</td>\n      <td>98053</td>\n      <td>47.6680</td>\n      <td>-122.063</td>\n      <td>2550</td>\n      <td>42625</td>\n    </tr>\n    <tr>\n      <th>3</th>\n      <td>1099600250</td>\n      <td>2242</td>\n      <td>20141202T000000</td>\n      <td>260000.0</td>\n      <td>3</td>\n      <td>1.75</td>\n      <td>1710</td>\n      <td>6400</td>\n      <td>1.0</td>\n      <td>0</td>\n      <td>...</td>\n      <td>7</td>\n      <td>1240.0</td>\n      <td>470</td>\n      <td>1976</td>\n      <td>0</td>\n      <td>98023</td>\n      <td>47.3036</td>\n      <td>-122.377</td>\n      <td>1600</td>\n      <td>6400</td>\n    </tr>\n    <tr>\n      <th>4</th>\n      <td>1189000207</td>\n      <td>2308</td>\n      <td>20141021T000000</td>\n      <td>387000.0</td>\n      <td>2</td>\n      <td>2.50</td>\n      <td>1170</td>\n      <td>1394</td>\n      <td>2.0</td>\n      <td>0</td>\n      <td>...</td>\n      <td>8</td>\n      <td>1170.0</td>\n      <td>0</td>\n      <td>2001</td>\n      <td>0</td>\n      <td>98122</td>\n      <td>47.6131</td>\n      <td>-122.297</td>\n      <td>1250</td>\n      <td>3136</td>\n    </tr>\n  </tbody>\n</table>\n<p>5 rows × 22 columns</p>\n</div>"
          },
          "metadata": {}
        }
      ]
    },
    {
      "cell_type": "markdown",
      "source": "## 2.2 Присоедините к таблице clients данные по домам через метод merge\n## Это нужно, чтобы понимать, какие дома покупались клиентами\n## house_id - это индексы датафрейма с домами",
      "metadata": {}
    },
    {
      "cell_type": "code",
      "source": "merged=clients.merge(df, left_on='house_id', right_on='id', how='left')\nmerged.head()",
      "metadata": {
        "trusted": true
      },
      "execution_count": 14,
      "outputs": [
        {
          "execution_count": 14,
          "output_type": "execute_result",
          "data": {
            "text/plain": "   client_id    house_id          id             date     price  bedrooms  \\\n0       1459  8965450190  8965450190  20150218T000000  295000.0         3   \n1       4684  6823100225  6823100225  20150414T000000  700000.0         4   \n2       3498  5104540330  5104540330  20150508T000000  679000.0         4   \n3       3942  2131701075  2131701075  20141204T000000  420000.0         3   \n4       4535  1522700060  1522700060  20140624T000000  518000.0         4   \n\n   bathrooms  sqft_living  sqft_lot  floors  ...  grade  sqft_above  \\\n0       2.50         1500      3060     2.0  ...      7      1500.0   \n1       1.75         1870      6000     1.0  ...      8      1670.0   \n2       2.50         3680      7236     2.0  ...     10      3680.0   \n3       1.75         1720      5000     1.5  ...      8      1720.0   \n4       2.75         2520     14021     2.0  ...      9      2520.0   \n\n   sqft_basement  yr_built  yr_renovated  zipcode      lat     long  \\\n0              0      1994             0    98006  47.5605 -122.117   \n1            200      1949             0    98199  47.6435 -122.399   \n2              0      2006             0    98038  47.3543 -122.005   \n3              0      1932          2009    98019  47.7380 -121.983   \n4              0      1999             0    98019  47.7344 -121.957   \n\n   sqft_living15  sqft_lot15  \n0           2700        7734  \n1           1710        6000  \n2           3310        7180  \n3           1410        8300  \n4           2330       14007  \n\n[5 rows x 23 columns]",
            "text/html": "<div>\n<style scoped>\n    .dataframe tbody tr th:only-of-type {\n        vertical-align: middle;\n    }\n\n    .dataframe tbody tr th {\n        vertical-align: top;\n    }\n\n    .dataframe thead th {\n        text-align: right;\n    }\n</style>\n<table border=\"1\" class=\"dataframe\">\n  <thead>\n    <tr style=\"text-align: right;\">\n      <th></th>\n      <th>client_id</th>\n      <th>house_id</th>\n      <th>id</th>\n      <th>date</th>\n      <th>price</th>\n      <th>bedrooms</th>\n      <th>bathrooms</th>\n      <th>sqft_living</th>\n      <th>sqft_lot</th>\n      <th>floors</th>\n      <th>...</th>\n      <th>grade</th>\n      <th>sqft_above</th>\n      <th>sqft_basement</th>\n      <th>yr_built</th>\n      <th>yr_renovated</th>\n      <th>zipcode</th>\n      <th>lat</th>\n      <th>long</th>\n      <th>sqft_living15</th>\n      <th>sqft_lot15</th>\n    </tr>\n  </thead>\n  <tbody>\n    <tr>\n      <th>0</th>\n      <td>1459</td>\n      <td>8965450190</td>\n      <td>8965450190</td>\n      <td>20150218T000000</td>\n      <td>295000.0</td>\n      <td>3</td>\n      <td>2.50</td>\n      <td>1500</td>\n      <td>3060</td>\n      <td>2.0</td>\n      <td>...</td>\n      <td>7</td>\n      <td>1500.0</td>\n      <td>0</td>\n      <td>1994</td>\n      <td>0</td>\n      <td>98006</td>\n      <td>47.5605</td>\n      <td>-122.117</td>\n      <td>2700</td>\n      <td>7734</td>\n    </tr>\n    <tr>\n      <th>1</th>\n      <td>4684</td>\n      <td>6823100225</td>\n      <td>6823100225</td>\n      <td>20150414T000000</td>\n      <td>700000.0</td>\n      <td>4</td>\n      <td>1.75</td>\n      <td>1870</td>\n      <td>6000</td>\n      <td>1.0</td>\n      <td>...</td>\n      <td>8</td>\n      <td>1670.0</td>\n      <td>200</td>\n      <td>1949</td>\n      <td>0</td>\n      <td>98199</td>\n      <td>47.6435</td>\n      <td>-122.399</td>\n      <td>1710</td>\n      <td>6000</td>\n    </tr>\n    <tr>\n      <th>2</th>\n      <td>3498</td>\n      <td>5104540330</td>\n      <td>5104540330</td>\n      <td>20150508T000000</td>\n      <td>679000.0</td>\n      <td>4</td>\n      <td>2.50</td>\n      <td>3680</td>\n      <td>7236</td>\n      <td>2.0</td>\n      <td>...</td>\n      <td>10</td>\n      <td>3680.0</td>\n      <td>0</td>\n      <td>2006</td>\n      <td>0</td>\n      <td>98038</td>\n      <td>47.3543</td>\n      <td>-122.005</td>\n      <td>3310</td>\n      <td>7180</td>\n    </tr>\n    <tr>\n      <th>3</th>\n      <td>3942</td>\n      <td>2131701075</td>\n      <td>2131701075</td>\n      <td>20141204T000000</td>\n      <td>420000.0</td>\n      <td>3</td>\n      <td>1.75</td>\n      <td>1720</td>\n      <td>5000</td>\n      <td>1.5</td>\n      <td>...</td>\n      <td>8</td>\n      <td>1720.0</td>\n      <td>0</td>\n      <td>1932</td>\n      <td>2009</td>\n      <td>98019</td>\n      <td>47.7380</td>\n      <td>-121.983</td>\n      <td>1410</td>\n      <td>8300</td>\n    </tr>\n    <tr>\n      <th>4</th>\n      <td>4535</td>\n      <td>1522700060</td>\n      <td>1522700060</td>\n      <td>20140624T000000</td>\n      <td>518000.0</td>\n      <td>4</td>\n      <td>2.75</td>\n      <td>2520</td>\n      <td>14021</td>\n      <td>2.0</td>\n      <td>...</td>\n      <td>9</td>\n      <td>2520.0</td>\n      <td>0</td>\n      <td>1999</td>\n      <td>0</td>\n      <td>98019</td>\n      <td>47.7344</td>\n      <td>-121.957</td>\n      <td>2330</td>\n      <td>14007</td>\n    </tr>\n  </tbody>\n</table>\n<p>5 rows × 23 columns</p>\n</div>"
          },
          "metadata": {}
        }
      ]
    },
    {
      "cell_type": "code",
      "source": "",
      "metadata": {},
      "execution_count": null,
      "outputs": []
    }
  ]
}